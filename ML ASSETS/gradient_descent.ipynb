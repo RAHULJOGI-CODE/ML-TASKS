{
  "nbformat": 4,
  "nbformat_minor": 0,
  "metadata": {
    "colab": {
      "provenance": []
    },
    "kernelspec": {
      "name": "python3",
      "display_name": "Python 3"
    },
    "language_info": {
      "name": "python"
    }
  },
  "cells": [
    {
      "cell_type": "markdown",
      "source": [
        "#GRADIENT_DESCENT\n"
      ],
      "metadata": {
        "id": "4cRHbYUC8JMX"
      }
    },
    {
      "cell_type": "code",
      "execution_count": 1,
      "metadata": {
        "id": "LD41litE76Wn"
      },
      "outputs": [],
      "source": [
        "# numpy, matplotlib\n",
        "import numpy as np\n",
        "import matplotlib.pyplot as plt\n",
        "from warnings import filterwarnings\n",
        "filterwarnings(\"ignore\")"
      ]
    },
    {
      "cell_type": "code",
      "source": [
        "def gradient_descent():\n",
        "    datapoints = np.array([[-10, -10], [-8, -2], [-6, -12], [-4, -4], [10, 10], [8, 2], [6, 12], [4, 4]])\n",
        "    #Transposing data\n",
        "    datapoints = datapoints.T\n",
        "\n",
        "    datapoints = np.vstack([np.ones(datapoints.shape[1]), datapoints])\n",
        "\n",
        "    reg_md1 = np.array([0, -1])\n",
        "    #defining my alpha rate and max.no.of.iterations\n",
        "    w = find_reg_model(datapoints, reg_md1, alpha=0.01, iterations=100)\n",
        "    print(\"\\nBest m and c values for least MSE:\", w)\n",
        "\n",
        "    x_min = np.min(datapoints[1, :]) - 1\n",
        "    x_max = np.max(datapoints[1, :]) + 1\n",
        "    x_range = np.arange(x_min, x_max, 0.01)\n",
        "    y = w[0] + w[1] * x_range\n",
        "\n",
        "    plt.plot(datapoints[1, :], datapoints[2, :], 'bo')\n",
        "    plt.plot(x_range, y, 'g')\n",
        "    plt.show()\n",
        "\n",
        "def find_reg_model(data_pts, w, alpha, iterations):\n",
        "    data = data_pts[:-1, :]\n",
        "    pred_y = data_pts[-1, :]\n",
        "\n",
        "    for _ in range(iterations):\n",
        "        h_theta_x = np.dot(w, data)\n",
        "        grads = np.mean(np.tile((h_theta_x - pred_y), (data.shape[0], 1)) * data, axis=1)\n",
        "        w = w - alpha * grads\n",
        "        #change in weights can be observed by displaying \"w\"\n",
        "        #final weights can be termed as minimum m and c values for least MSE\n",
        "        print(w)\n",
        "\n",
        "    return w\n",
        "\n",
        "gradient_descent()\n"
      ],
      "metadata": {
        "colab": {
          "base_uri": "https://localhost:8080/",
          "height": 1000
        },
        "id": "JyGQxKEnmQmW",
        "outputId": "71e0d643-8f3a-4e39-8c86-a4c3b8ef04cf"
      },
      "execution_count": 2,
      "outputs": [
        {
          "output_type": "stream",
          "name": "stdout",
          "text": [
            "[0.   0.05]\n",
            "[0.    0.533]\n",
            "[0.      0.75518]\n",
            "[0.        0.8573828]\n",
            "[0.         0.90439609]\n",
            "[0.        0.9260222]\n",
            "[0.         0.93597021]\n",
            "[0.        0.9405463]\n",
            "[0.        0.9426513]\n",
            "[0.        0.9436196]\n",
            "[0.         0.94406501]\n",
            "[0.         0.94426991]\n",
            "[0.         0.94436416]\n",
            "[0.         0.94440751]\n",
            "[0.         0.94442746]\n",
            "[0.         0.94443663]\n",
            "[0.         0.94444085]\n",
            "[0.         0.94444279]\n",
            "[0.         0.94444368]\n",
            "[0.         0.94444409]\n",
            "[0.         0.94444428]\n",
            "[0.         0.94444437]\n",
            "[0.         0.94444441]\n",
            "[0.         0.94444443]\n",
            "[0.         0.94444444]\n",
            "[0.         0.94444444]\n",
            "[0.         0.94444444]\n",
            "[0.         0.94444444]\n",
            "[0.         0.94444444]\n",
            "[0.         0.94444444]\n",
            "[0.         0.94444444]\n",
            "[0.         0.94444444]\n",
            "[0.         0.94444444]\n",
            "[0.         0.94444444]\n",
            "[0.         0.94444444]\n",
            "[0.         0.94444444]\n",
            "[0.         0.94444444]\n",
            "[0.         0.94444444]\n",
            "[0.         0.94444444]\n",
            "[0.         0.94444444]\n",
            "[0.         0.94444444]\n",
            "[0.         0.94444444]\n",
            "[0.         0.94444444]\n",
            "[0.         0.94444444]\n",
            "[0.         0.94444444]\n",
            "[0.         0.94444444]\n",
            "[0.         0.94444444]\n",
            "[0.         0.94444444]\n",
            "[0.         0.94444444]\n",
            "[0.         0.94444444]\n",
            "[0.         0.94444444]\n",
            "[0.         0.94444444]\n",
            "[0.         0.94444444]\n",
            "[0.         0.94444444]\n",
            "[0.         0.94444444]\n",
            "[0.         0.94444444]\n",
            "[0.         0.94444444]\n",
            "[0.         0.94444444]\n",
            "[0.         0.94444444]\n",
            "[0.         0.94444444]\n",
            "[0.         0.94444444]\n",
            "[0.         0.94444444]\n",
            "[0.         0.94444444]\n",
            "[0.         0.94444444]\n",
            "[0.         0.94444444]\n",
            "[0.         0.94444444]\n",
            "[0.         0.94444444]\n",
            "[0.         0.94444444]\n",
            "[0.         0.94444444]\n",
            "[0.         0.94444444]\n",
            "[0.         0.94444444]\n",
            "[0.         0.94444444]\n",
            "[0.         0.94444444]\n",
            "[0.         0.94444444]\n",
            "[0.         0.94444444]\n",
            "[0.         0.94444444]\n",
            "[0.         0.94444444]\n",
            "[0.         0.94444444]\n",
            "[0.         0.94444444]\n",
            "[0.         0.94444444]\n",
            "[0.         0.94444444]\n",
            "[0.         0.94444444]\n",
            "[0.         0.94444444]\n",
            "[0.         0.94444444]\n",
            "[0.         0.94444444]\n",
            "[0.         0.94444444]\n",
            "[0.         0.94444444]\n",
            "[0.         0.94444444]\n",
            "[0.         0.94444444]\n",
            "[0.         0.94444444]\n",
            "[0.         0.94444444]\n",
            "[0.         0.94444444]\n",
            "[0.         0.94444444]\n",
            "[0.         0.94444444]\n",
            "[0.         0.94444444]\n",
            "[0.         0.94444444]\n",
            "[0.         0.94444444]\n",
            "[0.         0.94444444]\n",
            "[0.         0.94444444]\n",
            "[0.         0.94444444]\n",
            "\n",
            "Best m and c values for least MSE: [0.         0.94444444]\n"
          ]
        },
        {
          "output_type": "display_data",
          "data": {
            "text/plain": [
              "<Figure size 640x480 with 1 Axes>"
            ],
            "image/png": "[encoded data removed]"
          },
          "metadata": {}
        }
      ]
    }
  ]
}